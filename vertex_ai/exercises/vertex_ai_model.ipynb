{
 "cells": [
  {
   "cell_type": "markdown",
   "id": "2b44536e-4684-452e-8ccc-9872f9346bbf",
   "metadata": {
    "pycharm": {
     "name": "#%% md\n"
    }
   },
   "source": [
    "# Vertex AI Model Packaging"
   ]
  },
  {
   "cell_type": "markdown",
   "id": "230a700d-8187-4031-9575-7ba2b7e3f360",
   "metadata": {
    "pycharm": {
     "name": "#%% md\n"
    }
   },
   "source": [
    "## 1. Quickdraw source distribution"
   ]
  },
  {
   "cell_type": "markdown",
   "id": "cf3ef92f-ad2b-48a7-a036-127f63156b87",
   "metadata": {
    "pycharm": {
     "name": "#%% md\n"
    }
   },
   "source": [
    "Directory tree structure exemple :"
   ]
  },
  {
   "cell_type": "code",
   "execution_count": null,
   "outputs": [],
   "source": [
    "quickdraw_classifier/\n",
    "├── quickdraw_classifier/\n",
    "│   ├──__init__.py \n",
    "│   ├──io_handler.py\n",
    "│   ├──model.py\n",
    "│   ├──training.py\n",
    "│   └──utils.py\n",
    "└── setup.py\n",
    "submit_vertex_custom_training_job.sh\n",
    "submit_vertex_hp_tuning_job.sh"
   ],
   "metadata": {
    "collapsed": false,
    "pycharm": {
     "name": "#%%\n"
    }
   }
  },
  {
   "cell_type": "markdown",
   "id": "f2d752d9-e79a-40db-8395-b5c641a23b78",
   "metadata": {
    "pycharm": {
     "name": "#%% md\n"
    }
   },
   "source": [
    "setup.py defines how to create a source districution.\n",
    "More on that : [Create a source distribution](https://cloud.google.com/vertex-ai/docs/training/create-python-pre-built-container#create_a_source_distribution)"
   ]
  },
  {
   "cell_type": "markdown",
   "source": [
    "Start by creating a REGIONAL bucket in europe-west1 for your experiments. <br>\n",
    "Choose a USERNAME you are going to use for all your resources. <br>\n",
    "Bucket name : **$USERNAME-devoxx_quickdraw**"
   ],
   "metadata": {
    "collapsed": false,
    "pycharm": {
     "name": "#%% md\n"
    }
   }
  },
  {
   "cell_type": "markdown",
   "source": [
    "Upload generated package to\n",
    "*gs://< USERNAME >-devoxx_quickdraw/vertex_job_code/quickdraw_classifier-0.0.1.tar.gz*"
   ],
   "metadata": {
    "collapsed": false,
    "pycharm": {
     "name": "#%% md\n"
    }
   }
  },
  {
   "cell_type": "markdown",
   "id": "aa61c8ee-0917-408f-8921-19dead8c9546",
   "metadata": {
    "pycharm": {
     "name": "#%% md\n"
    }
   },
   "source": [
    "## 2. Custom Training Job"
   ]
  },
  {
   "cell_type": "markdown",
   "id": "47e2f87b-059c-49d0-b9da-2a0989fef615",
   "metadata": {
    "pycharm": {
     "name": "#%% md\n"
    }
   },
   "source": [
    "CustomJob executes the training application and creates a model resource that facilitates deployment. Mode on creating and submitting a CustomJob : [CustomJob and model upload](https://cloud.google.com/vertex-ai/docs/training/create-training-pipeline#custom-job-model-upload)"
   ]
  },
  {
   "cell_type": "markdown",
   "id": "52089dd0-e77d-473e-99e9-2cde2922519b",
   "metadata": {
    "pycharm": {
     "name": "#%% md\n"
    }
   },
   "source": []
  },
  {
   "cell_type": "markdown",
   "id": "aea957b5-3da4-4c6a-b25c-22095c1d5e74",
   "metadata": {
    "pycharm": {
     "name": "#%% md\n"
    }
   },
   "source": [
    "Create **submit_vertex_custom_training_job.sh**"
   ]
  },
  {
   "cell_type": "markdown",
   "id": "5b53daa8-923d-4d13-bfda-1c9cbf81d9da",
   "metadata": {
    "pycharm": {
     "name": "#%% md\n"
    }
   },
   "source": [
    "Let's start by defining all the variables.<br>\n",
    "**!! PLEASE do not change machine and accelarator types. !!**"
   ]
  },
  {
   "cell_type": "code",
   "execution_count": null,
   "id": "f4c6c9bf-9b87-49bc-ab41-8eb1766ab871",
   "metadata": {
    "pycharm": {
     "name": "#%%\n"
    }
   },
   "outputs": [],
   "source": [
    "#!/bin/bash\n",
    "REGION='europe-west1'\n",
    "PROJECT_NAME='par-devoxx-sfeir'\n",
    "SERVICE_ACCOUNT='sa-vertex@par-devoxx-sfeir.iam.gserviceaccount.com'\n",
    "\n",
    "USERNAME='<TO DEFINE>'\n",
    "\n",
    "DATE=$(date +\"%Y%m%d_%H%M%S\")\n",
    "TRAINING_JOB_NAME=\"$USERNAME-quickdraw_training_$DATE\"\n",
    "MODEL_DISPLAY_NAME='$USERNAME-quickdraw_model_v01'\n",
    "\n",
    "REPLICA_COUNT='1'\n",
    "TRAINING_MACHINE_TYPE='n1-standard-8'\n",
    "ACCELERATOR_TYPE='NVIDIA_TESLA_K80'\n",
    "ACCELERATOR_COUNT='1'\n",
    "\n",
    "TRAINING_EXECUTOR_IMAGE_URI='europe-docker.pkg.dev/vertex-ai/training/tf-gpu.2-8:latest'\n",
    "PREDICTION_EXECUTOR_IMAGE_URI='europe-docker.pkg.dev/vertex-ai/prediction/tf2-cpu.2-8:latest'\n",
    "PYTHON_MODULE='quickdraw_classifier.training'\n",
    "\n",
    "\n",
    "GCS_TRAINING_DATA='gs://devoxx_quickdraw/tfrecord_data/training_data/'\n",
    "GCS_VALIDATION_DATA='gs://devoxx_quickdraw/tfrecord_data/validation_data/'\n",
    "GCS_MODEL_DATA_PATH=\"gs://$USERNAME-devoxx_quickdraw/gcs_model_data/quickdraw_classifier_$DATE/\"\n",
    "PACKAGE_URI='gs://$USERNAME-devoxx_quickdraw/vertex_job_code/quickdraw_classifier-0.0.1.tar.gz'"
   ]
  },
  {
   "cell_type": "markdown",
   "id": "c09900b5-1c4b-45c2-8f19-1cfe515b7c1f",
   "metadata": {
    "pycharm": {
     "name": "#%% md\n"
    }
   },
   "source": [
    "You should pass to training pipeline the following arguments :\n",
    "- batch_size = 50\n",
    "- validation_batch_size = 20\n",
    "- validation_ds_size = 5000\n",
    "- img_height = 64\n",
    "- img_width = 64\n",
    "- nb_classes = 5\n",
    "\n",
    "As well as set environment variables : \n",
    "- GCS_TRAINING_DATA\n",
    "- GCS_VALIDATION_DATA\n",
    "- GCS_MODEL_DATA_PATH"
   ]
  },
  {
   "cell_type": "code",
   "execution_count": null,
   "id": "f842fa69-168e-4ace-b0fb-229935e3df12",
   "metadata": {
    "pycharm": {
     "name": "#%%\n"
    }
   },
   "outputs": [],
   "source": [
    "#!/bin/bash\n",
    "TRAINING_PIPELINE_REQUEST=\\\n",
    "\"{\n",
    "  'displayName': '$TRAINING_JOB_NAME',\n",
    "  'trainingTaskDefinition': 'gs://google-cloud-aiplatform/schema/trainingjob/definition/custom_task_1.0.0.yaml',\n",
    "  'trainingTaskInputs': {\n",
    "    'serviceAccount': '$SERVICE_ACCOUNT',\n",
    "    'baseOutputDirectory': {\n",
    "      'outputUriPrefix': '$GCS_MODEL_DATA_PATH',\n",
    "    },\n",
    "    'workerPoolSpecs': [\n",
    "      {\n",
    "        'machineSpec': {\n",
    "          'machineType': '$TRAINING_MACHINE_TYPE',\n",
    "          <TO DEFINE>\n",
    "        },\n",
    "        'replicaCount': '$REPLICA_COUNT',\n",
    "        'pythonPackageSpec': {\n",
    "          'executorImageUri': '$TRAINING_EXECUTOR_IMAGE_URI',\n",
    "          'packageUris': ['$PACKAGE_URI'],\n",
    "          'pythonModule': '$PYTHON_MODULE',\n",
    "          'args': [\n",
    "            <TO DEFINE>\n",
    "          ],\n",
    "          'env': [\n",
    "            <TO DEFINE>\n",
    "          ]\n",
    "        }\n",
    "      }\n",
    "    ],\n",
    "  },\n",
    "  'modelToUpload': {\n",
    "    'displayName': '$MODEL_DISPLAY_NAME',\n",
    "    'containerSpec': {\n",
    "      'imageUri': '$PREDICTION_EXECUTOR_IMAGE_URI',\n",
    "    },\n",
    "  },\n",
    "}\""
   ]
  },
  {
   "cell_type": "markdown",
   "id": "ad9f7b5b-b15e-43e6-a775-9dc883a7ae6c",
   "metadata": {
    "pycharm": {
     "name": "#%% md\n"
    }
   },
   "source": [
    "The last step is to save the request body in a *training_request.json* file and make a POST request."
   ]
  },
  {
   "cell_type": "code",
   "execution_count": null,
   "id": "034a0d50-e35a-4e0b-bdfb-a38f7720f009",
   "metadata": {
    "pycharm": {
     "name": "#%%\n"
    }
   },
   "outputs": [],
   "source": [
    "#!/bin/bash\n",
    "echo $TRAINING_PIPELINE_REQUEST > training_request.json\n",
    "\n",
    "curl -X POST \\\n",
    "-H \"Authorization: Bearer \"$(gcloud auth application-default print-access-token) \\\n",
    "-H \"Content-Type: application/json; charset=utf-8\" \\\n",
    "-d @training_request.json \\\n",
    "\"https://$REGION-aiplatform.googleapis.com/v1/projects/$PROJECT_NAME/locations/$REGION/trainingPipelines\""
   ]
  },
  {
   "cell_type": "markdown",
   "id": "abe438bf-4bde-4100-927a-16fae097983a",
   "metadata": {
    "pycharm": {
     "name": "#%% md\n"
    }
   },
   "source": [
    "## 3. Hyperparameter Tuning Job"
   ]
  },
  {
   "cell_type": "markdown",
   "id": "80cdc5b0-0abd-4789-a681-85705e0532bd",
   "metadata": {
    "pycharm": {
     "name": "#%% md\n"
    }
   },
   "source": [
    "Hyperparameter tuning job runs trials of your training job with different sets of hyperparameters. More on creating and submitting hyperparameter tuning job on Vertex AI : [Create a hyperparameter tuning job](https://cloud.google.com/vertex-ai/docs/training/using-hyperparameter-tuning#create)"
   ]
  },
  {
   "cell_type": "markdown",
   "id": "120aad16-64de-408b-995f-9a24f3599a9f",
   "metadata": {
    "pycharm": {
     "name": "#%% md\n"
    }
   },
   "source": [
    "Create a **submit_vertex_hp_tuning_job.sh**"
   ]
  },
  {
   "cell_type": "markdown",
   "id": "7d64249c-c66a-4e52-ab0b-a7699ea1aad5",
   "metadata": {
    "pycharm": {
     "name": "#%% md\n"
    }
   },
   "source": [
    "Start with the same set of variable, but don't forget to change the job name."
   ]
  },
  {
   "cell_type": "code",
   "execution_count": null,
   "id": "3eb41a06-fd6f-4c5e-9815-18448fe6273c",
   "metadata": {
    "pycharm": {
     "name": "#%%\n"
    }
   },
   "outputs": [],
   "source": [
    "#!/bin/bash\n",
    "REGION=\"europe-west1\"\n",
    "PROJECT_NAME=\"par-devoxx-sfeir\"\n",
    "SERVICE_ACCOUNT=\"sa-vertex@par-devoxx-sfeir.iam.gserviceaccount.com\"\n",
    "\n",
    "USERNAME=\"<TO DEFINE>\"\n",
    "\n",
    "DATE=$(date +\"%Y%m%d_%H%M%S\")\n",
    "TRAINING_JOB_NAME=\"$USERNAME-quickdraw_hp_tunning_$DATE\"\n",
    "\n",
    "REPLICA_COUNT=\"1\"\n",
    "TRAINING_MACHINE_TYPE=\"n1-standard-8\"\n",
    "ACCELERATOR_TYPE=\"NVIDIA_TESLA_K80\"\n",
    "ACCELERATOR_COUNT=\"1\"\n",
    "\n",
    "TRAINING_EXECUTOR_IMAGE_URI=\"europe-docker.pkg.dev/vertex-ai/training/tf-gpu.2-8:latest\"\n",
    "PREDICTION_EXECUTOR_IMAGE_URI=\"europe-docker.pkg.dev/vertex-ai/prediction/tf2-cpu.2-8:latest\"\n",
    "PYTHON_MODULE=\"quickdraw_classifier.training\"\n",
    "\n",
    "GCS_TRAINING_DATA=\"gs://devoxx_quickdraw/tfrecord_data/training_data/\"\n",
    "GCS_VALIDATION_DATA=\"gs://devoxx_quickdraw/tfrecord_data/validation_data/\"\n",
    "GCS_MODEL_DATA_PATH=\"gs://$USERNAME-devoxx_quickdraw/gcs_model_data/quickdraw_classifier_$DATE/\"\n",
    "PACKAGE_URI=\"gs://$USERNAME-devoxx_quickdraw/vertex_job_code/quickdraw_classifier-0.0.1.tar.gz\""
   ]
  },
  {
   "cell_type": "markdown",
   "id": "9b31775e-90d2-4e34-b097-53970a820b41",
   "metadata": {
    "pycharm": {
     "name": "#%% md\n"
    }
   },
   "source": [
    "Define all the necessary parameters of the tuning job. <br>\n",
    "Set the same argments and environment variables. <br>\n",
    "In this job we are going to fine-tune :\n",
    "- learning rate (lr)\n",
    "- batch size (batch_size)"
   ]
  },
  {
   "cell_type": "markdown",
   "id": "a1aeecb0-4052-4d36-97bb-2541679c0b9c",
   "metadata": {
    "pycharm": {
     "name": "#%% md\n"
    }
   },
   "source": [
    "**metricId** should correspond to the metric saved during training using **hypertune** library. Don't forget to uncomment the corresponding code."
   ]
  },
  {
   "cell_type": "code",
   "execution_count": null,
   "id": "6351d05f-85fe-417b-8959-9be978a02cad",
   "metadata": {
    "pycharm": {
     "name": "#%%\n"
    }
   },
   "outputs": [],
   "source": [
    "#!/bin/bash\n",
    "HP_TUNING_REQUEST=\\\n",
    "\"{\n",
    "  'displayName': '$TRAINING_JOB_NAME',\n",
    "  'studySpec': {\n",
    "    'metrics': [\n",
    "      {\n",
    "        'metricId': 'val_accuracy',\n",
    "        'goal': 'MAXIMIZE'\n",
    "      }\n",
    "    ],\n",
    "    'parameters': [\n",
    "      <TO DEFINE>\n",
    "    ]\n",
    "  },\n",
    "  'maxTrialCount': 8,\n",
    "  'parallelTrialCount': 2,\n",
    "  'maxFailedTrialCount': 3,\n",
    "  'trialJobSpec': {\n",
    "    'serviceAccount': '$SERVICE_ACCOUNT',\n",
    "    'workerPoolSpecs': [\n",
    "      {\n",
    "        'machineSpec': {\n",
    "          'machineType': '$TRAINING_MACHINE_TYPE',\n",
    "          'acceleratorType': '$ACCELERATOR_TYPE',\n",
    "          'acceleratorCount': '$ACCELERATOR_COUNT'\n",
    "        },\n",
    "        'replicaCount': '$REPLICA_COUNT',\n",
    "        'pythonPackageSpec': {\n",
    "          'executorImageUri': '$TRAINING_EXECUTOR_IMAGE_URI',\n",
    "          'packageUris': ['$PACKAGE_URI'],\n",
    "          'pythonModule': '$PYTHON_MODULE',\n",
    "          'args': [\n",
    "            <TO DEFINE>\n",
    "          ],\n",
    "          'env': [\n",
    "            <TO DEFINE>\n",
    "          ]\n",
    "        }\n",
    "      }\n",
    "    ],\n",
    "  }\n",
    "}\""
   ]
  },
  {
   "cell_type": "markdown",
   "id": "38bc1832-10db-4960-a21f-2ae464935e90",
   "metadata": {
    "pycharm": {
     "name": "#%% md\n"
    }
   },
   "source": [
    "The last step is to save the request body in a *hp_tuning_request.json* file and make a POST request."
   ]
  },
  {
   "cell_type": "code",
   "execution_count": null,
   "id": "76dddb15-3dd8-4bc5-8687-971131fdd848",
   "metadata": {
    "pycharm": {
     "name": "#%%\n"
    }
   },
   "outputs": [],
   "source": [
    "#!/bin/bash\n",
    "echo $HP_TUNING_REQUEST > hp_tuning_request.json\n",
    "\n",
    "curl -X POST \\\n",
    "-H \"Authorization: Bearer \"$(gcloud auth application-default print-access-token) \\\n",
    "-H \"Content-Type: application/json; charset=utf-8\" \\\n",
    "-d @hp_tuning_request.json \\\n",
    "\"https://$REGION-aiplatform.googleapis.com/v1/projects/$PROJECT_NAME/locations/$REGION/hyperparameterTuningJobs\""
   ]
  },
  {
   "cell_type": "code",
   "execution_count": null,
   "id": "cf39d582-ce6b-43f2-ab3c-7032fec03eb6",
   "metadata": {
    "pycharm": {
     "name": "#%%\n"
    }
   },
   "outputs": [],
   "source": []
  }
 ],
 "metadata": {
  "environment": {
   "kernel": "python3",
   "name": "tf2-gpu.2-8.m91",
   "type": "gcloud",
   "uri": "gcr.io/deeplearning-platform-release/tf2-gpu.2-8:m91"
  },
  "kernelspec": {
   "display_name": "Python 3",
   "language": "python",
   "name": "python3"
  },
  "language_info": {
   "codemirror_mode": {
    "name": "ipython",
    "version": 3
   },
   "file_extension": ".py",
   "mimetype": "text/x-python",
   "name": "python",
   "nbconvert_exporter": "python",
   "pygments_lexer": "ipython3",
   "version": "3.7.12"
  }
 },
 "nbformat": 4,
 "nbformat_minor": 5
}