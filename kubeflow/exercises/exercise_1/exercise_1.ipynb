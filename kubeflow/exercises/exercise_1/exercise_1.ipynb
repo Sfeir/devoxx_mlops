{
 "cells": [
  {
   "cell_type": "markdown",
   "id": "31ca47e7-3cdf-415a-a11d-f723fff06d6e",
   "metadata": {},
   "source": [
    "# Create Docker image to transform img to tfrecords\n",
    "## Show preprocess code\n",
    "\n",
    "Transform the transform_to_tfrecord.ipynb to a python executable file in ./src/preprocess.py"
   ]
  },
  {
   "cell_type": "code",
   "execution_count": 1,
   "id": "c403ba7d-e0cd-481b-9fb7-57c4bd44490a",
   "metadata": {},
   "outputs": [
    {
     "name": "stdout",
     "output_type": "stream",
     "text": [
      "import math\n",
      "import numpy as np\n",
      "import tensorflow as tf\n",
      "import datetime\n",
      "import argparse\n",
      "\n",
      "\n",
      "\n",
      "# Defining and parsing the command-line arguments\n",
      "parser = argparse.ArgumentParser(description='Script to convert images > Tfrecords ')\n",
      "# Paths must be passed in, not hardcoded\n",
      "#GCS_TRAINING_PATTERN \n",
      "#GCS_TRAINING_TFRECORDS\n",
      "#SHARDS\n",
      "\n",
      "\n",
      "## TODO Transform devoxx_mlops/Kubeflow/Exercice 1/transform_to_tfrecord.ipynb to python file "
     ]
    }
   ],
   "source": [
    "!cat ./src/preprocess.py"
   ]
  },
  {
   "cell_type": "markdown",
   "id": "5659bb3c-ac51-4fa2-9036-391ebca032a0",
   "metadata": {},
   "source": [
    "## Edit Dockerfile\n",
    "Create Docker file with gcr.io/deeplearning-platform-release/tf2-cpu.2-8 base image.\n",
    "Copy files and set the Workdir"
   ]
  },
  {
   "cell_type": "code",
   "execution_count": 3,
   "id": "59416b50-42b6-4541-82a3-387bbac3beff",
   "metadata": {},
   "outputs": [
    {
     "name": "stdout",
     "output_type": "stream",
     "text": [
      "#TODO create docker image"
     ]
    }
   ],
   "source": [
    "! cat ./Dockerfile"
   ]
  },
  {
   "cell_type": "markdown",
   "id": "f7ab9f8b-382d-4899-9111-3a4e8ad7563d",
   "metadata": {},
   "source": [
    "## Create Docker image and push it to the gcs registry\n",
    "Replace parameters"
   ]
  },
  {
   "cell_type": "code",
   "execution_count": null,
   "id": "a6501da8-913e-4c7a-8959-6040b621d246",
   "metadata": {},
   "outputs": [],
   "source": [
    "%%bash\n",
    "#!/bin/bash -e\n",
    "project=<project-name>\n",
    "user=<username>\n",
    "\n",
    "image_name=gcr.io/$project/image_to_tfrecords_$user\n",
    "\n",
    "image_tag=latest\n",
    "full_image_name=${image_name}:${image_tag}\n",
    "\n",
    "cd \"$(dirname \"$0\")\" \n",
    "\n",
    "docker build -t \"${full_image_name}\" .\n",
    "docker push \"$full_image_name\"\n",
    "\n",
    "# Output the strict image name, which contains the sha256 image digest\n",
    "docker inspect --format=\"{{index .RepoDigests 0}}\" \"${full_image_name}\""
   ]
  }
 ],
 "metadata": {
  "environment": {
   "kernel": "python3",
   "name": "tf2-gpu.2-8.m91",
   "type": "gcloud",
   "uri": "gcr.io/deeplearning-platform-release/tf2-gpu.2-8:m91"
  },
  "kernelspec": {
   "display_name": "Python 3",
   "language": "python",
   "name": "python3"
  },
  "language_info": {
   "codemirror_mode": {
    "name": "ipython",
    "version": 3
   },
   "file_extension": ".py",
   "mimetype": "text/x-python",
   "name": "python",
   "nbconvert_exporter": "python",
   "pygments_lexer": "ipython3",
   "version": "3.7.12"
  }
 },
 "nbformat": 4,
 "nbformat_minor": 5
}
