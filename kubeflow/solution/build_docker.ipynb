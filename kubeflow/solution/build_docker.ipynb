{
 "cells": [
  {
   "cell_type": "markdown",
   "id": "31ca47e7-3cdf-415a-a11d-f723fff06d6e",
   "metadata": {},
   "source": [
    "# Create Docker image to transform img to tfrecords\n",
    "## Show preprocess code"
   ]
  },
  {
   "cell_type": "code",
   "execution_count": null,
   "id": "c403ba7d-e0cd-481b-9fb7-57c4bd44490a",
   "metadata": {},
   "outputs": [],
   "source": [
    "!cat ./src/preprocess.py"
   ]
  },
  {
   "cell_type": "markdown",
   "id": "5659bb3c-ac51-4fa2-9036-391ebca032a0",
   "metadata": {},
   "source": [
    "## Edit Dockerfile "
   ]
  },
  {
   "cell_type": "code",
   "execution_count": 3,
   "id": "59416b50-42b6-4541-82a3-387bbac3beff",
   "metadata": {},
   "outputs": [
    {
     "name": "stdout",
     "output_type": "stream",
     "text": [
      "FROM gcr.io/deeplearning-platform-release/tf2-cpu.2-8\n",
      "\n",
      "COPY ./src /\n",
      "WORKDIR /\n",
      "\n",
      "# Sets up the entry point to invoke the preprocessing.\n",
      "#ENTRYPOINT [\"python3\", \"-m\", \"preprocess.py\"]"
     ]
    }
   ],
   "source": [
    "! cat ./Dockerfile"
   ]
  },
  {
   "cell_type": "markdown",
   "id": "f7ab9f8b-382d-4899-9111-3a4e8ad7563d",
   "metadata": {},
   "source": [
    "## Create Docker image and push it to the gcs registry"
   ]
  },
  {
   "cell_type": "code",
   "execution_count": 5,
   "id": "a6501da8-913e-4c7a-8959-6040b621d246",
   "metadata": {},
   "outputs": [
    {
     "name": "stdout",
     "output_type": "stream",
     "text": [
      "Sending build context to Docker daemon  196.1kB\n",
      "Step 1/3 : FROM gcr.io/deeplearning-platform-release/tf2-cpu.2-8\n",
      " ---> 17060af2d478\n",
      "Step 2/3 : COPY ./src /\n",
      " ---> Using cache\n",
      " ---> e45d16ad11c4\n",
      "Step 3/3 : WORKDIR /\n",
      " ---> Using cache\n",
      " ---> 08b39ae70621\n",
      "Successfully built 08b39ae70621\n",
      "Successfully tagged gcr.io/sfeir-data/image_to_tfrecords:latest\n",
      "The push refers to repository [gcr.io/sfeir-data/image_to_tfrecords]\n",
      "134632908145: Preparing\n",
      "804e34988d41: Preparing\n",
      "0e63e6110e72: Preparing\n",
      "b3f101428293: Preparing\n",
      "1ddaa7674ada: Preparing\n",
      "b3ab95a574c8: Preparing\n",
      "d1b010151b48: Preparing\n",
      "b80bc089358e: Preparing\n",
      "11bc9b36546a: Preparing\n",
      "43d282ce8d0b: Preparing\n",
      "69fd467ac3a5: Preparing\n",
      "ed4291c31559: Preparing\n",
      "4bf5ae11254c: Preparing\n",
      "0d592bcbe281: Preparing\n",
      "770c4c112e39: Preparing\n",
      "1874048fd290: Preparing\n",
      "5f70bf18a086: Preparing\n",
      "7e897a45d8d8: Preparing\n",
      "42826651fb01: Preparing\n",
      "4236d5cafaa0: Preparing\n",
      "68a85fa9d77e: Preparing\n",
      "d1b010151b48: Waiting\n",
      "b80bc089358e: Waiting\n",
      "11bc9b36546a: Waiting\n",
      "43d282ce8d0b: Waiting\n",
      "69fd467ac3a5: Waiting\n",
      "ed4291c31559: Waiting\n",
      "7e897a45d8d8: Waiting\n",
      "42826651fb01: Waiting\n",
      "4236d5cafaa0: Waiting\n",
      "68a85fa9d77e: Waiting\n",
      "b3ab95a574c8: Waiting\n",
      "4bf5ae11254c: Waiting\n",
      "0d592bcbe281: Waiting\n",
      "1874048fd290: Waiting\n",
      "770c4c112e39: Waiting\n",
      "5f70bf18a086: Waiting\n",
      "b3f101428293: Layer already exists\n",
      "1ddaa7674ada: Layer already exists\n",
      "0e63e6110e72: Layer already exists\n",
      "804e34988d41: Layer already exists\n",
      "134632908145: Layer already exists\n",
      "b3ab95a574c8: Layer already exists\n",
      "d1b010151b48: Layer already exists\n",
      "43d282ce8d0b: Layer already exists\n",
      "b80bc089358e: Layer already exists\n",
      "11bc9b36546a: Layer already exists\n",
      "69fd467ac3a5: Layer already exists\n",
      "ed4291c31559: Layer already exists\n",
      "4bf5ae11254c: Layer already exists\n",
      "770c4c112e39: Layer already exists\n",
      "0d592bcbe281: Layer already exists\n",
      "1874048fd290: Layer already exists\n",
      "7e897a45d8d8: Layer already exists\n",
      "4236d5cafaa0: Layer already exists\n",
      "5f70bf18a086: Layer already exists\n",
      "42826651fb01: Layer already exists\n",
      "68a85fa9d77e: Layer already exists\n",
      "latest: digest: sha256:8fa12fedc4e808db0048703680ed4c49c64a1f0526edb480b258d12134b16c86 size: 4712\n",
      "gcr.io/sfeir-data/image_to_tfrecords@sha256:8fa12fedc4e808db0048703680ed4c49c64a1f0526edb480b258d12134b16c86\n"
     ]
    }
   ],
   "source": [
    "%%bash\n",
    "#!/bin/bash -e\n",
    "image_name=gcr.io/sfeir-data/image_to_tfrecords\n",
    "image_tag=latest\n",
    "full_image_name=${image_name}:${image_tag}\n",
    "\n",
    "cd \"$(dirname \"$0\")\" \n",
    "\n",
    "docker build -t \"${full_image_name}\" .\n",
    "docker push \"$full_image_name\"\n",
    "\n",
    "# Output the strict image name, which contains the sha256 image digest\n",
    "docker inspect --format=\"{{index .RepoDigests 0}}\" \"${full_image_name}\""
   ]
  }
 ],
 "metadata": {
  "environment": {
   "kernel": "python3",
   "name": "tf2-gpu.2-8.m91",
   "type": "gcloud",
   "uri": "gcr.io/deeplearning-platform-release/tf2-gpu.2-8:m91"
  },
  "kernelspec": {
   "display_name": "Python 3",
   "language": "python",
   "name": "python3"
  },
  "language_info": {
   "codemirror_mode": {
    "name": "ipython",
    "version": 3
   },
   "file_extension": ".py",
   "mimetype": "text/x-python",
   "name": "python",
   "nbconvert_exporter": "python",
   "pygments_lexer": "ipython3",
   "version": "3.7.12"
  }
 },
 "nbformat": 4,
 "nbformat_minor": 5
}
