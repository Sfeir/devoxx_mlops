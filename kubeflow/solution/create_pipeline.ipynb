{
 "cells": [
  {
   "cell_type": "markdown",
   "id": "ec4fcdbc-0188-4640-ad23-6e875e5a6762",
   "metadata": {
    "pycharm": {
     "name": "#%% md\n"
    }
   },
   "source": [
    "# Create Kubeflow Pipeline\n",
    "\n"
   ]
  },
  {
   "cell_type": "code",
   "execution_count": null,
   "id": "89dc5846-57bc-4e70-8ada-3d52d8ca7172",
   "metadata": {
    "pycharm": {
     "name": "#%%\n"
    }
   },
   "outputs": [],
   "source": [
    "import kfp\n",
    "\n",
    "client = kfp.Client(host='<TO DEFINE> ex: https://5ab1dd08e55a522c-dot-europe-west1.pipelines.googleusercontent.com')\n",
    "import kfp.components as comp\n",
    "from kfp.components import create_component_from_func\n",
    "import kfp.dsl as dsl"
   ]
  },
  {
   "cell_type": "code",
   "execution_count": null,
   "id": "fb35a79b-0e12-4041-88b9-343ea94791e9",
   "metadata": {
    "pycharm": {
     "name": "#%%\n"
    }
   },
   "outputs": [],
   "source": [
    "%%bash\n",
    "#!/bin/bash -e\n",
    "project_id='par-devoxx-sfeir'\n",
    "zone='europe-west1-c'\n",
    "cluster='<TO DEFINE> ex: cluster-1 '\n",
    "\n",
    "gcloud container clusters get-credentials $cluster --zone $zone --project $project_id"
   ]
  },
  {
   "cell_type": "markdown",
   "id": "f808cda8-f88b-4715-a5aa-413c2f65dfe4",
   "metadata": {
    "pycharm": {
     "name": "#%% md\n"
    }
   },
   "source": [
    "## Define kubeflow components\n",
    "### 1- Docker image components "
   ]
  },
  {
   "cell_type": "code",
   "execution_count": null,
   "id": "0ad2d880-4689-4e7c-9786-e32f436fab26",
   "metadata": {
    "pycharm": {
     "name": "#%%\n"
    }
   },
   "outputs": [],
   "source": [
    "with open(\"./components/image_tfrecord.yaml\", \"r\") as f:\n",
    "    image_tfrecord_components = f.read()\n",
    "print(image_tfrecord_components)"
   ]
  },
  {
   "cell_type": "code",
   "execution_count": null,
   "id": "e3018378-e71a-4e55-87d2-8c3893b93b58",
   "metadata": {
    "pycharm": {
     "name": "#%%\n"
    }
   },
   "outputs": [],
   "source": [
    "create_step_convert_tfrecords = comp.load_component_from_text(image_tfrecord_components)"
   ]
  },
  {
   "cell_type": "markdown",
   "id": "7587085b-4c9d-434e-b835-3b56601be776",
   "metadata": {
    "pycharm": {
     "name": "#%% md\n"
    }
   },
   "source": [
    "### 2- Python based components"
   ]
  },
  {
   "cell_type": "code",
   "execution_count": null,
   "id": "ebf300b9-fcbb-431e-a337-131cb22a3357",
   "metadata": {
    "pycharm": {
     "name": "#%%\n"
    }
   },
   "outputs": [],
   "source": [
    "def preprocess_flag(preprocess: bool) -> bool:\n",
    "    \"\"\"\n",
    "    Print arguments\n",
    "    \"\"\"\n",
    "    print(\"Preprocess \", preprocess)\n",
    "    return preprocess\n",
    "\n",
    "\n",
    "print_preprocess = comp.func_to_container_op(preprocess_flag)"
   ]
  },
  {
   "cell_type": "code",
   "execution_count": null,
   "id": "bee9d70d-1b12-445e-9ff7-9afe119e7ce8",
   "metadata": {
    "pycharm": {
     "name": "#%%\n"
    }
   },
   "outputs": [],
   "source": [
    "def createTraningJob(training_data: str,\n",
    "                     validation_data: str,\n",
    "                     project: str,\n",
    "                     location: str,\n",
    "                     bucket: str,\n",
    "                     batch_size: str = '50',\n",
    "                     validation_batch_size: str = '20',\n",
    "                     training_ds_size: str = '25000',\n",
    "                     validation_ds_size: str = '5000',\n",
    "                     img_height: str = '64',\n",
    "                     img_width: str = '64',\n",
    "                     nb_classes: str = '5',\n",
    "                     display_name: str = 'quickdraw_training'\n",
    "                     ) -> str:\n",
    "    \"\"\"\n",
    "    Create the training job into Vertex training and launch it \n",
    "    :param training_data:  (str) GCS path to the training dataset Tfrecords,\n",
    "    :param validation_data: (str) GCS path to the validation dataset Tfrecords,\n",
    "    :param project: (str) Name of the Google cloud project,\n",
    "    :param location: (str) Training location in vetex (europe-west1,...) ,\n",
    "    :param bucket: (str) GCS bucket to store data during the training,\n",
    "    :param batch_size: (str) Training Batch size '50',\n",
    "    :param validation_batch_size: (str) Validation batch size defaut '20',\n",
    "    :param  training_ds_size: (str) training dataset size default 25000,\n",
    "    :param  validation_ds_size: (str) validation dataset size default 5000,\n",
    "    :param  img_height: (str) image height size default 255,\n",
    "    :param  img_width: (str) image widht size default 255,\n",
    "    :param  nb_classes: (str) number of class default '5',\n",
    "    :param  display_name:(str)Vertex job display name default'quickdraw_training'\n",
    "    :return: GCS path for the trained model\n",
    "    \"\"\"\n",
    "\n",
    "    from datetime import datetime\n",
    "    import google.cloud.aiplatform as aip\n",
    "\n",
    "    display_job_name = display_name\n",
    "    staging_bucket = bucket + \"staging/\" + display_job_name\n",
    "    model_path = bucket + \"gcs_model_data/\" + display_job_name\n",
    "\n",
    "    env_var = {'GCS_TRAINING_DATA': training_data,\n",
    "               'GCS_VALIDATION_DATA': validation_data,\n",
    "               'GCS_MODEL_DATA_PATH': model_path\n",
    "               }\n",
    "\n",
    "    job = aip.CustomPythonPackageTrainingJob(\n",
    "        display_name=display_job_name,\n",
    "        python_package_gcs_uri='gs://<TO DEFINE>/vertex_job_code/quickdraw_classifier-0.0.1.tar.gz',\n",
    "        python_module_name=\"quickdraw_classifier.training\",\n",
    "        container_uri='europe-docker.pkg.dev/vertex-ai/training/tf-gpu.2-8:latest',\n",
    "        model_serving_container_image_uri='europe-docker.pkg.dev/vertex-ai/prediction/tf2-cpu.2-8:latest',\n",
    "        project=project,\n",
    "        location=location,\n",
    "        staging_bucket=bucket\n",
    "    )\n",
    "\n",
    "    CMDARGS = [\n",
    "        '--batch_size=' + batch_size,\n",
    "        '--validation_batch_size=' + validation_batch_size,\n",
    "        '--training_ds_size=' + training_ds_size,\n",
    "        '--validation_ds_size=' + validation_ds_size,\n",
    "        '--img_height=' + img_height,\n",
    "        '--img_width=' + img_width,\n",
    "        '--nb_classes=' + nb_classes\n",
    "    ]\n",
    "\n",
    "    print(CMDARGS)\n",
    "\n",
    "    model = job.run(\n",
    "        args=CMDARGS,\n",
    "        environment_variables=env_var,\n",
    "        sync=True,\n",
    "        replica_count=1,\n",
    "        machine_type='n1-standard-8',\n",
    "        accelerator_type='NVIDIA_TESLA_K80',\n",
    "        accelerator_count=1,\n",
    "        base_output_dir=model_path)\n",
    "\n",
    "    return model.name\n"
   ]
  },
  {
   "cell_type": "code",
   "execution_count": null,
   "id": "a3471758-2aba-4018-b0de-e1597178dd2f",
   "metadata": {
    "pycharm": {
     "name": "#%%\n"
    }
   },
   "outputs": [],
   "source": [
    "train_model = create_component_from_func(\n",
    "    createTraningJob, output_component_file='./components/train_model.yaml',\n",
    "    base_image='gcr.io/deeplearning-platform-release/tf2-cpu.2-8')\n"
   ]
  },
  {
   "cell_type": "markdown",
   "id": "845cd2a2-7207-47ea-bfaa-e7633490c2f3",
   "metadata": {
    "pycharm": {
     "name": "#%% md\n"
    }
   },
   "source": [
    "## Assemble componenent for first Pipeline definition\n",
    "### Define your pipeline parameters"
   ]
  },
  {
   "cell_type": "code",
   "execution_count": null,
   "id": "3fe44acb-4e06-44f2-9cd3-3d8fac4f2df8",
   "metadata": {
    "pycharm": {
     "name": "#%%\n"
    }
   },
   "outputs": [],
   "source": [
    "username = \"<TO DEFINE>\"\n",
    "display_name = username + '_quickdraw_training'\n",
    "pipeline_name = username + '_quickdraw_pipeline'\n",
    "experiment_name = username + '_quickdraw'"
   ]
  },
  {
   "cell_type": "markdown",
   "id": "d7e879dd-9cd8-4dea-bedf-18191223739c",
   "metadata": {
    "pycharm": {
     "name": "#%% md\n"
    }
   },
   "source": [
    "### Define your pipeline"
   ]
  },
  {
   "cell_type": "code",
   "execution_count": null,
   "id": "0d994bf0-419e-48ee-9736-60cdd3b06dda",
   "metadata": {
    "pycharm": {
     "name": "#%%\n"
    }
   },
   "outputs": [],
   "source": [
    "\n",
    "@dsl.pipeline(\n",
    "    name='Quickdraw classifier ',\n",
    "    description='A trainer that does end-to-end distributed training for Quickdraw classifier.'\n",
    ")\n",
    "def kubeflow_pipeline(\n",
    "        images_path: str,\n",
    "        tfrecords_path: str,\n",
    "        image_validation_path: str,\n",
    "        tfrecords_validation_path: str,\n",
    "        bucket: str,\n",
    "        location: str,\n",
    "        project: str,\n",
    "        training_data: str,\n",
    "        validation_data: str,\n",
    "        batch_size: str = '50',\n",
    "        validation_batch_size: str = '20',\n",
    "        training_ds_size: str = '25000',\n",
    "        validation_ds_size: str = '5000',\n",
    "        image_size: int = 64,\n",
    "        img_height: str = '64',\n",
    "        img_width: str = '64',\n",
    "        nb_classes: str = '5',\n",
    "        display_name: str = 'quickdraw_training',\n",
    "        preprocess: bool = False,\n",
    "        deploy_model: bool = False\n",
    "\n",
    "):\n",
    "    check_preprocess = print_preprocess(preprocess)\n",
    "\n",
    "    with dsl.Condition(check_preprocess.output == True, name=\"do-preprocessing\"):\n",
    "        convert_train = create_step_convert_tfrecords(\n",
    "            images_path=images_path,\n",
    "            tfrecords_path=tfrecords_path,\n",
    "            target_size=image_size\n",
    "        ).set_display_name('convert_training_data').after(check_preprocess)\n",
    "\n",
    "        convert_valid = create_step_convert_tfrecords(\n",
    "            images_path=image_validation_path,\n",
    "            tfrecords_path=tfrecords_validation_path,\n",
    "            target_size=image_size\n",
    "        ).set_display_name('convert_validation_data').after(check_preprocess)\n",
    "\n",
    "    train_model_step = train_model(training_data=training_data,\n",
    "                                   validation_data=validation_data,\n",
    "                                   project=project,\n",
    "                                   location=location,\n",
    "                                   bucket=bucket,\n",
    "                                   batch_size=batch_size,\n",
    "                                   validation_batch_size=validation_batch_size,\n",
    "                                   training_ds_size=training_ds_size,\n",
    "                                   validation_ds_size=validation_ds_size,\n",
    "                                   img_height=img_height,\n",
    "                                   img_width=img_width,\n",
    "                                   nb_classes=nb_classes,\n",
    "                                   display_name=display_name).after(convert_valid, convert_train).set_display_name(\n",
    "        'Training_Model')\n",
    "\n"
   ]
  },
  {
   "cell_type": "markdown",
   "id": "0e506acf-1be4-49da-a3a9-126b548864f8",
   "metadata": {
    "pycharm": {
     "name": "#%% md\n"
    }
   },
   "source": [
    "### Compile Pipeline"
   ]
  },
  {
   "cell_type": "code",
   "execution_count": null,
   "id": "0a1a2c73-8d95-468e-857a-bd6e9d146849",
   "metadata": {
    "pycharm": {
     "name": "#%%\n"
    }
   },
   "outputs": [],
   "source": [
    "kfp.compiler.Compiler().compile(\n",
    "    pipeline_func=kubeflow_pipeline,\n",
    "    package_path='quickdraw_pipeline.yaml')"
   ]
  },
  {
   "cell_type": "markdown",
   "id": "9cb8fc1d-8541-4bb7-a141-839bce347202",
   "metadata": {
    "pycharm": {
     "name": "#%% md\n"
    }
   },
   "source": [
    "### Upload Pipeline to Kubeflow"
   ]
  },
  {
   "cell_type": "code",
   "execution_count": null,
   "id": "016f7729-f992-4670-b236-8ad421b00097",
   "metadata": {
    "pycharm": {
     "name": "#%%\n"
    }
   },
   "outputs": [],
   "source": [
    "pipeline = client.upload_pipeline(\n",
    "    pipeline_package_path=\"quickdraw_pipeline.yaml\", pipeline_name=pipeline_name)\n",
    "print(pipeline)"
   ]
  },
  {
   "cell_type": "markdown",
   "id": "89673836-12f2-40a6-8157-98ba08c36e66",
   "metadata": {
    "pycharm": {
     "name": "#%% md\n"
    }
   },
   "source": [
    "### Define arguments for the training "
   ]
  },
  {
   "cell_type": "code",
   "execution_count": null,
   "id": "940c8dff-430e-4c89-9e58-9716463aa864",
   "metadata": {
    "pycharm": {
     "name": "#%%\n"
    }
   },
   "outputs": [],
   "source": [
    "images_path = \"gs://devoxx_quickdraw/raw_images/training_data/*/*.png\"\n",
    "tfrecords_path = \"gs://devoxx_quickdraw/tfrecord_data/training_data/\"\n",
    "image_validation_path = \"gs://devoxx_quickdraw/raw_images/validation_data/*/*.png\"\n",
    "tfrecords_validation_path = \"gs://devoxx_quickdraw/tfrecord_data/validation_data/\"\n",
    "\n",
    "bucket = \"gs://<TO DEFINE>/\"\n",
    "location = \"europe-west1\"\n",
    "project = \"par-devoxx-sfeir\"\n",
    "training_data = 'gs://devoxx_quickdraw/tfrecord_data/training_data/'\n",
    "validation_data = 'gs://devoxx_quickdraw/tfrecord_data/validation_data/'\n",
    "image_size = 64\n",
    "\n",
    "args = {'images_path': images_path,\n",
    "        'tfrecords_path': tfrecords_path,\n",
    "        'image_validation_path': image_validation_path,\n",
    "        'tfrecords_validation_path': tfrecords_validation_path,\n",
    "        'bucket': bucket,\n",
    "        'location': location,\n",
    "        'project': project,\n",
    "        'training_data': training_data,\n",
    "        'validation_data': validation_data,\n",
    "        'display_name': display_name,\n",
    "        'preprocess': True,\n",
    "        'deploy_model': True,\n",
    "        'image_size': image_size}"
   ]
  },
  {
   "cell_type": "markdown",
   "id": "292ce6ae-cdbc-4d65-8ef1-960be6cd1884",
   "metadata": {
    "pycharm": {
     "name": "#%% md\n"
    }
   },
   "source": [
    "### Create an experiment."
   ]
  },
  {
   "cell_type": "code",
   "execution_count": null,
   "id": "0b1e008a-239f-4c23-a818-c9de9b99f72d",
   "metadata": {
    "pycharm": {
     "name": "#%%\n"
    }
   },
   "outputs": [],
   "source": [
    "try:\n",
    "    experiment = client.get_experiment(experiment_name=experiment_name)\n",
    "except:\n",
    "    print(\"Experiment does not already exist\")\n",
    "    experiment = client.create_experiment(name=experiment_name)"
   ]
  },
  {
   "cell_type": "code",
   "execution_count": null,
   "id": "4cf7ad13-4683-445f-bd20-f06f0f9f1808",
   "metadata": {
    "pycharm": {
     "name": "#%%\n"
    }
   },
   "outputs": [],
   "source": [
    "print(experiment)"
   ]
  },
  {
   "cell_type": "markdown",
   "id": "636dd7e7-61ab-478a-a8b3-5d3447ffa836",
   "metadata": {
    "pycharm": {
     "name": "#%% md\n"
    }
   },
   "source": [
    "### Launch pipeline into the Experiment "
   ]
  },
  {
   "cell_type": "code",
   "execution_count": null,
   "id": "698c0fb9-e427-4b95-92ed-545c33ada48e",
   "metadata": {
    "pycharm": {
     "name": "#%%\n"
    }
   },
   "outputs": [],
   "source": [
    "job = client.run_pipeline(job_name=display_name, experiment_id=experiment.id, params=args, pipeline_id=pipeline.id)"
   ]
  },
  {
   "cell_type": "markdown",
   "id": "13340bae-d907-4d49-8571-8662032e7c55",
   "metadata": {
    "pycharm": {
     "name": "#%% md\n"
    }
   },
   "source": [
    "## Assemble componenent for second Pipeline definition\n",
    "### Create Deployement task "
   ]
  },
  {
   "cell_type": "code",
   "execution_count": null,
   "id": "9425ea14-8650-40a3-950a-2ff9607030f7",
   "metadata": {
    "pycharm": {
     "name": "#%%\n"
    }
   },
   "outputs": [],
   "source": [
    "def deploy_model(\n",
    "        project: str,\n",
    "        region: str,\n",
    "        model_name: str\n",
    "\n",
    "):\n",
    "    from google.cloud import aiplatform\n",
    "    aiplatform.init(project=project, location=region)\n",
    "\n",
    "    endpoint_name = model_name + \"_endpoint\"\n",
    "\n",
    "    def create_endpoint():\n",
    "        endpoints = aiplatform.Endpoint.list(\n",
    "            filter='displayName=\"{}\"'.format(endpoint_name),\n",
    "            order_by='create_time desc',\n",
    "            project=project,\n",
    "            location=region,\n",
    "        )\n",
    "        if len(endpoints) > 0:\n",
    "            endpoint = endpoints[0]  # most recently created\n",
    "        else:\n",
    "            endpoint = aiplatform.Endpoint.create(\n",
    "                display_name=endpoint_name, project=project, location=region\n",
    "            )\n",
    "\n",
    "    endpoint = create_endpoint()\n",
    "\n",
    "    #Import a model programmatically\n",
    "    \"\"\"\n",
    "    model_upload = aiplatform.Model.upload(\n",
    "        display_name = model_name, \n",
    "        artifact_uri = model.uri.replace(\"model\", \"\"),\n",
    "        serving_container_image_uri =  serving_container_image_uri,\n",
    "        serving_container_health_route=f\"/v1/models/{model_name}\",\n",
    "        serving_container_predict_route=f\"/v1/models/{model_name}:predict\",\n",
    "        serving_container_environment_variables={\n",
    "        \"model_name\": model_name,\n",
    "    },       \n",
    "    )\"\"\"\n",
    "\n",
    "    model = aiplatform.Model(model_name=model_name)\n",
    "\n",
    "    model_deploy = model.deploy(\n",
    "        machine_type=\"n1-standard-4\",\n",
    "        endpoint=endpoint,\n",
    "        traffic_split={\"0\": 100},\n",
    "        deployed_model_display_name=model_name,\n",
    "    )\n",
    "\n",
    "    # Save data to the output params\n",
    "    return model_deploy.resource_name"
   ]
  },
  {
   "cell_type": "code",
   "execution_count": null,
   "id": "c11620b6-9f4b-4632-8668-343b4ef4088e",
   "metadata": {
    "pycharm": {
     "name": "#%%\n"
    }
   },
   "outputs": [],
   "source": [
    "deploy = create_component_from_func(\n",
    "    deploy_model, output_component_file='./components/model_deployment.yaml',\n",
    "    base_image='gcr.io/deeplearning-platform-release/tf2-cpu.2-8')\n"
   ]
  },
  {
   "cell_type": "markdown",
   "id": "e32992a8-ba9e-4f32-9f07-9c5c06b1e2e8",
   "metadata": {
    "pycharm": {
     "name": "#%% md\n"
    }
   },
   "source": [
    "### Create pipeline "
   ]
  },
  {
   "cell_type": "code",
   "execution_count": null,
   "id": "e508885e-56f9-4e00-bc5d-661d71557d71",
   "metadata": {
    "pycharm": {
     "name": "#%%\n"
    }
   },
   "outputs": [],
   "source": [
    "@dsl.pipeline(\n",
    "    name='Quickdraw classifier_full',\n",
    "    description='A trainer that does end-to-end distributed training for Quickdraw classifier.'\n",
    ")\n",
    "def kubeflow_pipeline(\n",
    "        images_path: str,\n",
    "        tfrecords_path: str,\n",
    "        image_validation_path: str,\n",
    "        tfrecords_validation_path: str,\n",
    "        bucket: str,\n",
    "        location: str,\n",
    "        project: str,\n",
    "        training_data: str,\n",
    "        validation_data: str,\n",
    "        batch_size: str = '50',\n",
    "        validation_batch_size: str = '20',\n",
    "        training_ds_size: str = '25000',\n",
    "        validation_ds_size: str = '5000',\n",
    "        image_size: int = 64,\n",
    "        img_height: str = '64',\n",
    "        img_width: str = '64',\n",
    "        nb_classes: str = '5',\n",
    "        display_name: str = 'quickdraw_training',\n",
    "        preprocess: bool = False,\n",
    "        deploy_model: bool = False\n",
    "\n",
    "):\n",
    "    check_preprocess = print_preprocess(preprocess)\n",
    "\n",
    "    with dsl.Condition(check_preprocess.output == True, name=\"do-preprocessing\"):\n",
    "        convert_train = create_step_convert_tfrecords(\n",
    "            images_path=images_path,\n",
    "            tfrecords_path=tfrecords_path,\n",
    "            target_size=image_size\n",
    "        ).set_display_name('convert_training_data').after(check_preprocess)\n",
    "\n",
    "        convert_valid = create_step_convert_tfrecords(\n",
    "            images_path=image_validation_path,\n",
    "            tfrecords_path=tfrecords_validation_path,\n",
    "            target_size=image_size\n",
    "        ).set_display_name('convert_validation_data').after(check_preprocess)\n",
    "\n",
    "    train_model_step = train_model(training_data=training_data,\n",
    "                                   validation_data=validation_data,\n",
    "                                   project=project,\n",
    "                                   location=location,\n",
    "                                   bucket=bucket,\n",
    "                                   batch_size=batch_size,\n",
    "                                   validation_batch_size=validation_batch_size,\n",
    "                                   training_ds_size=training_ds_size,\n",
    "                                   validation_ds_size=validation_ds_size,\n",
    "                                   img_height=img_height,\n",
    "                                   img_width=img_width,\n",
    "                                   nb_classes=nb_classes,\n",
    "                                   display_name=display_name).after(convert_valid, convert_train).set_display_name(\n",
    "        'Training_Model')\n",
    "\n",
    "    with dsl.Condition(deploy_model == True, name=\"deploy-model\"):\n",
    "        deploy_model_op = deploy(\n",
    "            project=project,\n",
    "            region=location,\n",
    "            model_name=train_model_step.output\n",
    "        ).after(train_model_step)\n",
    "\n"
   ]
  },
  {
   "cell_type": "code",
   "execution_count": null,
   "id": "120b019b-ff00-43b0-90ae-9662d380aed7",
   "metadata": {
    "pycharm": {
     "name": "#%%\n"
    }
   },
   "outputs": [],
   "source": [
    "kfp.compiler.Compiler().compile(\n",
    "    pipeline_func=kubeflow_pipeline,\n",
    "    package_path='quickdraw_pipeline_full.yaml')"
   ]
  },
  {
   "cell_type": "markdown",
   "id": "51058b20-b84c-46e8-8f1c-ae24070b3747",
   "metadata": {
    "pycharm": {
     "name": "#%% md\n"
    }
   },
   "source": [
    "### Update the pipeline version"
   ]
  },
  {
   "cell_type": "code",
   "execution_count": null,
   "id": "408932ac-7f65-4ddd-86ee-cbc031f81c07",
   "metadata": {
    "pycharm": {
     "name": "#%%\n"
    }
   },
   "outputs": [],
   "source": [
    "pipeline_full = client.upload_pipeline_version(pipeline_package_path='quickdraw_pipeline_full.yaml',\n",
    "                                               pipeline_version_name=pipeline_name + \"_full\",\n",
    "                                               pipeline_id=pipeline.id, )\n",
    "print(pipeline_full)"
   ]
  },
  {
   "cell_type": "markdown",
   "id": "c546dade-5acb-4b94-a929-50f5e5a93332",
   "metadata": {
    "pycharm": {
     "name": "#%% md\n"
    }
   },
   "source": [
    "### Launch Pipeline"
   ]
  },
  {
   "cell_type": "code",
   "execution_count": null,
   "id": "3a0c5662-aff2-42c6-bf12-d35a140492c2",
   "metadata": {
    "pycharm": {
     "name": "#%%\n"
    }
   },
   "outputs": [],
   "source": [
    "client.run_pipeline(job_name=display_name, experiment_id=experiment.id, params=args, pipeline_id=pipeline_full.id)"
   ]
  },
  {
   "cell_type": "code",
   "execution_count": null,
   "id": "d82c2116-4d5c-4f8c-86e7-29e4144121a5",
   "metadata": {
    "pycharm": {
     "name": "#%%\n"
    }
   },
   "outputs": [],
   "source": []
  }
 ],
 "metadata": {
  "environment": {
   "kernel": "python3",
   "name": "tf2-gpu.2-8.m91",
   "type": "gcloud",
   "uri": "gcr.io/deeplearning-platform-release/tf2-gpu.2-8:m91"
  },
  "kernelspec": {
   "display_name": "Python 3",
   "language": "python",
   "name": "python3"
  },
  "language_info": {
   "codemirror_mode": {
    "name": "ipython",
    "version": 3
   },
   "file_extension": ".py",
   "mimetype": "text/x-python",
   "name": "python",
   "nbconvert_exporter": "python",
   "pygments_lexer": "ipython3",
   "version": "3.7.12"
  }
 },
 "nbformat": 4,
 "nbformat_minor": 5
}