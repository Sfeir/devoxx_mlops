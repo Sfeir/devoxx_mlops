{
 "cells": [
  {
   "cell_type": "markdown",
   "id": "6833b20a-d60d-4948-bf08-8f3de7ec23e3",
   "metadata": {},
   "source": [
    "# Predict with Vertex AI Endpoints"
   ]
  },
  {
   "cell_type": "code",
   "execution_count": null,
   "id": "1b400f14-a1e7-4b7a-b1ef-f0ad4a7d0e36",
   "metadata": {},
   "outputs": [],
   "source": [
    "import logging\n",
    "from operator import itemgetter\n",
    "import os\n",
    "\n",
    "from google.cloud import aiplatform\n",
    "from google.protobuf import json_format\n",
    "from google.protobuf.struct_pb2 import Value\n",
    "import requests\n",
    "import tensorflow as tf"
   ]
  },
  {
   "cell_type": "code",
   "execution_count": null,
   "id": "56b3b972-3163-4db7-9102-43bae072e056",
   "metadata": {},
   "outputs": [],
   "source": [
    "gcp_project_id = \"<TO DEFINE>\"\n",
    "gcp_region = \"europe-west1\"\n",
    "endpoint_id = \"<TO DEFINE>\""
   ]
  },
  {
   "cell_type": "code",
   "execution_count": null,
   "id": "93507650-296e-4cd9-8641-1e5356dea8fa",
   "metadata": {},
   "outputs": [],
   "source": [
    "def preprocess_image(image_url):\n",
    "    logging.info(f'Fetching image from URL: {image_url}')\n",
    "    try:\n",
    "        image_response = requests.get(image_url)\n",
    "        image_response.raise_for_status()\n",
    "        assert image_response.headers.get('Content-Type') == 'image/png'\n",
    "    except (ConnectionError, requests.exceptions.RequestException,\n",
    "            AssertionError):\n",
    "        logging.error(f'Error fetching image from URL: {image_url}')\n",
    "        return None\n",
    "\n",
    "    logging.info('Decoding and preprocessing image ...')\n",
    "    image = tf.io.decode_jpeg(image_response.content, channels=1)\n",
    "    image = tf.image.resize_with_pad(image, 64, 64)\n",
    "    return image.numpy().tolist()  # make it JSON-serializable"
   ]
  },
  {
   "cell_type": "code",
   "execution_count": null,
   "id": "97f51f09-b9ad-41fb-9ff3-cd370c8cf438",
   "metadata": {},
   "outputs": [],
   "source": [
    "def get_prediction(instance, aip_endpoint_name):\n",
    "    logging.info('Sending prediction request to AI Platform ...')\n",
    "    try:\n",
    "        pb_instance = json_format.ParseDict(instance, Value())\n",
    "        response = aip_client.predict(endpoint=aip_endpoint_name,\n",
    "                                      instances=[pb_instance])\n",
    "        return list(response.predictions[0])\n",
    "    except Exception as err:\n",
    "        logging.error(f'Prediction request failed: {type(err)}: {err}')\n",
    "        return None"
   ]
  },
  {
   "cell_type": "code",
   "execution_count": null,
   "id": "b19a7416-51e8-4051-afb4-2d959b2b8c40",
   "metadata": {},
   "outputs": [],
   "source": [
    "aip_client = aiplatform.gapic.PredictionServiceClient(client_options={\n",
    "    'api_endpoint': 'europe-west1-aiplatform.googleapis.com'\n",
    "})\n",
    "aip_endpoint_name = f'projects/{gcp_project_id}/locations/{gcp_region}/endpoints/{endpoint_id}'"
   ]
  },
  {
   "cell_type": "code",
   "execution_count": null,
   "id": "cd7a47a9-ac48-42f7-9ade-0308fd00d2db",
   "metadata": {},
   "outputs": [],
   "source": [
    "img_url = \"https://storage.googleapis.com/devoxx_poc_public_images/cat/cat_6033.png\"\n",
    "instance = preprocess_image(img_url)\n",
    "probabilities = get_prediction(instance, aip_endpoint_name)\n",
    "print(probabilities)"
   ]
  },
  {
   "cell_type": "code",
   "execution_count": null,
   "id": "63337642-ff1a-48f4-96a4-916c9de96b84",
   "metadata": {},
   "outputs": [],
   "source": [
    "img_classes = ['angel', 'cat', 'crown', 'The Eiffel Tower', 'The Mona Lisa']\n",
    "\n",
    "probabilities_with_classes = zip(img_classes, probabilities)\n",
    "sorted_probabilities = sorted(probabilities_with_classes,\n",
    "                              key=itemgetter(1),\n",
    "                              reverse=True)\n",
    "print(sorted_probabilities)"
   ]
  },
  {
   "cell_type": "code",
   "execution_count": null,
   "id": "8534abdd-9482-4aeb-b967-1eed95b11c7f",
   "metadata": {},
   "outputs": [],
   "source": []
  }
 ],
 "metadata": {
  "environment": {
   "kernel": "python3",
   "name": "tf2-gpu.2-8.m91",
   "type": "gcloud",
   "uri": "gcr.io/deeplearning-platform-release/tf2-gpu.2-8:m91"
  },
  "kernelspec": {
   "display_name": "Python 3",
   "language": "python",
   "name": "python3"
  },
  "language_info": {
   "codemirror_mode": {
    "name": "ipython",
    "version": 3
   },
   "file_extension": ".py",
   "mimetype": "text/x-python",
   "name": "python",
   "nbconvert_exporter": "python",
   "pygments_lexer": "ipython3",
   "version": "3.7.12"
  }
 },
 "nbformat": 4,
 "nbformat_minor": 5
}
